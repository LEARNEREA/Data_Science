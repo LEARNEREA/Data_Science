{
 "cells": [
  {
   "cell_type": "code",
   "execution_count": 13,
   "id": "30d956d3",
   "metadata": {},
   "outputs": [],
   "source": [
    "import pandas as pd\n",
    "import numpy as np\n",
    "import seaborn as sns\n",
    "import matplotlib.pyplot as plt\n",
    "from sklearn.preprocessing import StandardScaler\n",
    "from imblearn.over_sampling import SMOTE\n",
    "from sklearn.model_selection import train_test_split\n",
    "from sklearn.linear_model import LogisticRegression\n",
    "from sklearn.metrics import classification_report\n",
    "from sklearn.ensemble import RandomForestClassifier\n",
    "from xgboost import XGBClassifier\n",
    "from imblearn.over_sampling import SMOTE"
   ]
  },
  {
   "cell_type": "code",
   "execution_count": 14,
   "id": "407126de",
   "metadata": {},
   "outputs": [],
   "source": [
    "def ModePreProcessing(df):\n",
    "\n",
    "# Outliers Treatment\n",
    "    cr_age_rmvd = df[df['person_age']<=70]\n",
    "    cr_age_rmvd.reset_index(drop=True, inplace=True)\n",
    "    person_emp_rmvd = cr_age_rmvd[cr_age_rmvd['person_emp_length']<=47]\n",
    "    person_emp_rmvd.reset_index(drop=True, inplace=True)\n",
    "    cr_data = person_emp_rmvd.copy()\n",
    "    \n",
    "# Missing Values Treatment\n",
    "    cr_data.fillna({'loan_int_rate':cr_data['loan_int_rate'].median()},inplace=True)\n",
    "    cr_data_copy=cr_data.drop('loan_grade',axis=1)\n",
    "    cr_data_cat_treated = cr_data_copy.copy()\n",
    "    \n",
    "# Categorical Variables Treatment\n",
    "    person_home_ownership = pd.get_dummies(cr_data_cat_treated['person_home_ownership'],drop_first=True).astype(int)\n",
    "    loan_intent = pd.get_dummies(cr_data_cat_treated['loan_intent'],drop_first=True).astype(int)\n",
    "    cr_data_cat_treated['cb_person_default_on_file_binary'] = np.where(cr_data_cat_treated['cb_person_default_on_file']=='Y',1,0)\n",
    "    data_to_scale = cr_data_cat_treated.drop(['person_home_ownership','loan_intent','loan_status','cb_person_default_on_file','cb_person_default_on_file_binary'],axis=1)\n",
    "\n",
    "# Scaling the data\n",
    "    scaler = StandardScaler()\n",
    "    scaled_data = scaler.fit_transform(data_to_scale)\n",
    "    scaled_df = pd.DataFrame(scaled_data,columns=['person_age', 'person_income', 'person_emp_length', 'loan_amnt',\n",
    "           'loan_int_rate', 'loan_percent_income', 'cb_person_cred_hist_length'])\n",
    "    scaled_data_combined = pd.concat([scaled_df,person_home_ownership,loan_intent],axis=1)\n",
    "    scaled_data_combined['cb_person_default_on_file'] = cr_data_cat_treated['cb_person_default_on_file_binary']\n",
    "    scaled_data_combined['loan_status'] = cr_data_cat_treated['loan_status']\n",
    "    \n",
    "# Features and Target Creation    \n",
    "    target = scaled_data_combined['loan_status']\n",
    "    features = scaled_data_combined.drop('loan_status',axis=1)\n",
    "\n",
    "# SMOTE Balancing\n",
    "    smote = SMOTE()\n",
    "    balanced_features, balanced_target = smote.fit_resample(features,target)\n",
    "    \n",
    "# return the final datasets\n",
    "    return data_to_scale, features, target, balanced_features, balanced_target"
   ]
  }
 ],
 "metadata": {
  "kernelspec": {
   "display_name": "Python 3 (ipykernel)",
   "language": "python",
   "name": "python3"
  },
  "language_info": {
   "codemirror_mode": {
    "name": "ipython",
    "version": 3
   },
   "file_extension": ".py",
   "mimetype": "text/x-python",
   "name": "python",
   "nbconvert_exporter": "python",
   "pygments_lexer": "ipython3",
   "version": "3.9.7"
  }
 },
 "nbformat": 4,
 "nbformat_minor": 5
}
