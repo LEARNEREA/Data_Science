{
 "cells": [
  {
   "cell_type": "code",
   "execution_count": 1,
   "id": "600be598",
   "metadata": {},
   "outputs": [],
   "source": [
    "import FraudDetectionModelDataPrep as dataPrep"
   ]
  },
  {
   "cell_type": "code",
   "execution_count": 2,
   "id": "b8af91ab",
   "metadata": {},
   "outputs": [
    {
     "data": {
      "text/plain": [
       "['LabelEncoder',\n",
       " 'LogisticRegression',\n",
       " 'StratifiedKFold',\n",
       " '__builtins__',\n",
       " '__cached__',\n",
       " '__doc__',\n",
       " '__file__',\n",
       " '__loader__',\n",
       " '__name__',\n",
       " '__package__',\n",
       " '__spec__',\n",
       " 'classification_report',\n",
       " 'confusion_matrix',\n",
       " 'dataPrepAutomation',\n",
       " 'np',\n",
       " 'pd',\n",
       " 'plt',\n",
       " 'smoteBalancing',\n",
       " 'sns',\n",
       " 'train_test_split']"
      ]
     },
     "execution_count": 2,
     "metadata": {},
     "output_type": "execute_result"
    }
   ],
   "source": [
    "dir(dataPrep)"
   ]
  },
  {
   "cell_type": "code",
   "execution_count": 3,
   "id": "3a7b6687",
   "metadata": {},
   "outputs": [],
   "source": [
    "inputDF = dataPrep.pd.read_excel(r\"D:\\Learnerea\\Tables\\to_test_the_model.xlsx\")"
   ]
  },
  {
   "cell_type": "code",
   "execution_count": 5,
   "id": "89006010",
   "metadata": {},
   "outputs": [
    {
     "data": {
      "text/plain": [
       "(4500, 11)"
      ]
     },
     "execution_count": 5,
     "metadata": {},
     "output_type": "execute_result"
    }
   ],
   "source": [
    "inputDF.shape"
   ]
  },
  {
   "cell_type": "code",
   "execution_count": 6,
   "id": "1cd83ecc",
   "metadata": {},
   "outputs": [],
   "source": [
    "features, target = dataPrep.dataPrepAutomation(inputDF)"
   ]
  },
  {
   "cell_type": "code",
   "execution_count": 9,
   "id": "d71a7250",
   "metadata": {},
   "outputs": [
    {
     "data": {
      "text/html": [
       "<div>\n",
       "<style scoped>\n",
       "    .dataframe tbody tr th:only-of-type {\n",
       "        vertical-align: middle;\n",
       "    }\n",
       "\n",
       "    .dataframe tbody tr th {\n",
       "        vertical-align: top;\n",
       "    }\n",
       "\n",
       "    .dataframe thead th {\n",
       "        text-align: right;\n",
       "    }\n",
       "</style>\n",
       "<table border=\"1\" class=\"dataframe\">\n",
       "  <thead>\n",
       "    <tr style=\"text-align: right;\">\n",
       "      <th></th>\n",
       "      <th>step</th>\n",
       "      <th>amount</th>\n",
       "      <th>oldbalanceOrg</th>\n",
       "      <th>newbalanceOrig</th>\n",
       "      <th>oldbalanceDest</th>\n",
       "      <th>newbalanceDest</th>\n",
       "      <th>isFlaggedFraud</th>\n",
       "      <th>CASH_IN</th>\n",
       "      <th>CASH_OUT</th>\n",
       "      <th>DEBIT</th>\n",
       "      <th>PAYMENT</th>\n",
       "      <th>TRANSFER</th>\n",
       "    </tr>\n",
       "  </thead>\n",
       "  <tbody>\n",
       "    <tr>\n",
       "      <th>0</th>\n",
       "      <td>303</td>\n",
       "      <td>13363860.78</td>\n",
       "      <td>0.00</td>\n",
       "      <td>0.00</td>\n",
       "      <td>13656437.62</td>\n",
       "      <td>27020298.40</td>\n",
       "      <td>0</td>\n",
       "      <td>False</td>\n",
       "      <td>False</td>\n",
       "      <td>False</td>\n",
       "      <td>False</td>\n",
       "      <td>True</td>\n",
       "    </tr>\n",
       "    <tr>\n",
       "      <th>1</th>\n",
       "      <td>355</td>\n",
       "      <td>340375.64</td>\n",
       "      <td>9758.51</td>\n",
       "      <td>0.00</td>\n",
       "      <td>4764447.25</td>\n",
       "      <td>5104822.89</td>\n",
       "      <td>0</td>\n",
       "      <td>False</td>\n",
       "      <td>False</td>\n",
       "      <td>False</td>\n",
       "      <td>False</td>\n",
       "      <td>True</td>\n",
       "    </tr>\n",
       "    <tr>\n",
       "      <th>2</th>\n",
       "      <td>404</td>\n",
       "      <td>276737.58</td>\n",
       "      <td>0.00</td>\n",
       "      <td>0.00</td>\n",
       "      <td>962518.44</td>\n",
       "      <td>1239256.03</td>\n",
       "      <td>0</td>\n",
       "      <td>False</td>\n",
       "      <td>True</td>\n",
       "      <td>False</td>\n",
       "      <td>False</td>\n",
       "      <td>False</td>\n",
       "    </tr>\n",
       "    <tr>\n",
       "      <th>3</th>\n",
       "      <td>258</td>\n",
       "      <td>314027.77</td>\n",
       "      <td>650090.00</td>\n",
       "      <td>336062.23</td>\n",
       "      <td>0.00</td>\n",
       "      <td>314027.77</td>\n",
       "      <td>0</td>\n",
       "      <td>False</td>\n",
       "      <td>True</td>\n",
       "      <td>False</td>\n",
       "      <td>False</td>\n",
       "      <td>False</td>\n",
       "    </tr>\n",
       "    <tr>\n",
       "      <th>4</th>\n",
       "      <td>36</td>\n",
       "      <td>33468.45</td>\n",
       "      <td>0.00</td>\n",
       "      <td>0.00</td>\n",
       "      <td>149332.38</td>\n",
       "      <td>182800.83</td>\n",
       "      <td>0</td>\n",
       "      <td>False</td>\n",
       "      <td>True</td>\n",
       "      <td>False</td>\n",
       "      <td>False</td>\n",
       "      <td>False</td>\n",
       "    </tr>\n",
       "  </tbody>\n",
       "</table>\n",
       "</div>"
      ],
      "text/plain": [
       "   step       amount  oldbalanceOrg  newbalanceOrig  oldbalanceDest   \n",
       "0   303  13363860.78           0.00            0.00     13656437.62  \\\n",
       "1   355    340375.64        9758.51            0.00      4764447.25   \n",
       "2   404    276737.58           0.00            0.00       962518.44   \n",
       "3   258    314027.77      650090.00       336062.23            0.00   \n",
       "4    36     33468.45           0.00            0.00       149332.38   \n",
       "\n",
       "   newbalanceDest  isFlaggedFraud  CASH_IN  CASH_OUT  DEBIT  PAYMENT  TRANSFER  \n",
       "0     27020298.40               0    False     False  False    False      True  \n",
       "1      5104822.89               0    False     False  False    False      True  \n",
       "2      1239256.03               0    False      True  False    False     False  \n",
       "3       314027.77               0    False      True  False    False     False  \n",
       "4       182800.83               0    False      True  False    False     False  "
      ]
     },
     "execution_count": 9,
     "metadata": {},
     "output_type": "execute_result"
    }
   ],
   "source": [
    "features.head()"
   ]
  },
  {
   "cell_type": "code",
   "execution_count": 10,
   "id": "239d3bc7",
   "metadata": {},
   "outputs": [],
   "source": [
    "import pickle"
   ]
  },
  {
   "cell_type": "code",
   "execution_count": 11,
   "id": "4ecb9787",
   "metadata": {},
   "outputs": [],
   "source": [
    "with open(\"ensemble_model.pkl\",\"rb\") as file:\n",
    "    ensemble_model = pickle.load(file)"
   ]
  },
  {
   "cell_type": "code",
   "execution_count": 14,
   "id": "81c2d452",
   "metadata": {},
   "outputs": [
    {
     "data": {
      "text/plain": [
       "array([0, 0, 0, ..., 1, 1, 1], dtype=int64)"
      ]
     },
     "execution_count": 14,
     "metadata": {},
     "output_type": "execute_result"
    }
   ],
   "source": [
    "prediction = ensemble_model.predict(features)\n",
    "prediction"
   ]
  },
  {
   "cell_type": "code",
   "execution_count": 17,
   "id": "b6e2ed5e",
   "metadata": {},
   "outputs": [
    {
     "name": "stdout",
     "output_type": "stream",
     "text": [
      "              precision    recall  f1-score   support\n",
      "\n",
      "           0       1.00      0.99      0.99      4000\n",
      "           1       0.91      1.00      0.95       500\n",
      "\n",
      "    accuracy                           0.99      4500\n",
      "   macro avg       0.96      0.99      0.97      4500\n",
      "weighted avg       0.99      0.99      0.99      4500\n",
      "\n"
     ]
    }
   ],
   "source": [
    "print(dataPrep.classification_report(target,prediction))"
   ]
  },
  {
   "cell_type": "code",
   "execution_count": 18,
   "id": "9ee6aca0",
   "metadata": {},
   "outputs": [],
   "source": [
    "with open(\"smote_logistic.pkl\",\"rb\") as file:\n",
    "    smote_logistic = pickle.load(file)"
   ]
  },
  {
   "cell_type": "code",
   "execution_count": 19,
   "id": "888f1eec",
   "metadata": {},
   "outputs": [
    {
     "data": {
      "text/plain": [
       "array([0, 0, 0, ..., 1, 1, 1], dtype=int64)"
      ]
     },
     "execution_count": 19,
     "metadata": {},
     "output_type": "execute_result"
    }
   ],
   "source": [
    "smoteLogPred = smote_logistic.predict(features)\n",
    "smoteLogPred"
   ]
  },
  {
   "cell_type": "code",
   "execution_count": 20,
   "id": "192cf23d",
   "metadata": {},
   "outputs": [
    {
     "name": "stdout",
     "output_type": "stream",
     "text": [
      "              precision    recall  f1-score   support\n",
      "\n",
      "           0       0.99      0.92      0.95      4000\n",
      "           1       0.58      0.90      0.71       500\n",
      "\n",
      "    accuracy                           0.92      4500\n",
      "   macro avg       0.79      0.91      0.83      4500\n",
      "weighted avg       0.94      0.92      0.92      4500\n",
      "\n"
     ]
    }
   ],
   "source": [
    "print(dataPrep.classification_report(target,smoteLogPred))"
   ]
  },
  {
   "cell_type": "code",
   "execution_count": 21,
   "id": "4973418f",
   "metadata": {},
   "outputs": [],
   "source": [
    "smoteLogProb = smote_logistic.predict_proba(features)"
   ]
  },
  {
   "cell_type": "code",
   "execution_count": 24,
   "id": "270284c5",
   "metadata": {},
   "outputs": [],
   "source": [
    "smoteLogProbdata = smoteLogProb[:,1]"
   ]
  },
  {
   "cell_type": "code",
   "execution_count": 27,
   "id": "8e19858c",
   "metadata": {},
   "outputs": [],
   "source": [
    "finalData = dataPrep.pd.DataFrame(zip(target,prediction,smoteLogPred,smoteLogProbdata),columns=['isFraud','ensem_pred','smote_pred','smote_prob'])"
   ]
  },
  {
   "cell_type": "code",
   "execution_count": 28,
   "id": "5eb1e71a",
   "metadata": {},
   "outputs": [
    {
     "data": {
      "text/html": [
       "<div>\n",
       "<style scoped>\n",
       "    .dataframe tbody tr th:only-of-type {\n",
       "        vertical-align: middle;\n",
       "    }\n",
       "\n",
       "    .dataframe tbody tr th {\n",
       "        vertical-align: top;\n",
       "    }\n",
       "\n",
       "    .dataframe thead th {\n",
       "        text-align: right;\n",
       "    }\n",
       "</style>\n",
       "<table border=\"1\" class=\"dataframe\">\n",
       "  <thead>\n",
       "    <tr style=\"text-align: right;\">\n",
       "      <th></th>\n",
       "      <th>step</th>\n",
       "      <th>amount</th>\n",
       "      <th>oldbalanceOrg</th>\n",
       "      <th>newbalanceOrig</th>\n",
       "      <th>oldbalanceDest</th>\n",
       "      <th>newbalanceDest</th>\n",
       "      <th>isFlaggedFraud</th>\n",
       "      <th>CASH_IN</th>\n",
       "      <th>CASH_OUT</th>\n",
       "      <th>DEBIT</th>\n",
       "      <th>PAYMENT</th>\n",
       "      <th>TRANSFER</th>\n",
       "      <th>isFraud</th>\n",
       "      <th>ensem_pred</th>\n",
       "      <th>smote_pred</th>\n",
       "      <th>smote_prob</th>\n",
       "    </tr>\n",
       "  </thead>\n",
       "  <tbody>\n",
       "    <tr>\n",
       "      <th>0</th>\n",
       "      <td>303</td>\n",
       "      <td>13363860.78</td>\n",
       "      <td>0.00</td>\n",
       "      <td>0.00</td>\n",
       "      <td>13656437.62</td>\n",
       "      <td>27020298.40</td>\n",
       "      <td>0</td>\n",
       "      <td>False</td>\n",
       "      <td>False</td>\n",
       "      <td>False</td>\n",
       "      <td>False</td>\n",
       "      <td>True</td>\n",
       "      <td>0</td>\n",
       "      <td>0</td>\n",
       "      <td>0</td>\n",
       "      <td>4.550288e-79</td>\n",
       "    </tr>\n",
       "    <tr>\n",
       "      <th>1</th>\n",
       "      <td>355</td>\n",
       "      <td>340375.64</td>\n",
       "      <td>9758.51</td>\n",
       "      <td>0.00</td>\n",
       "      <td>4764447.25</td>\n",
       "      <td>5104822.89</td>\n",
       "      <td>0</td>\n",
       "      <td>False</td>\n",
       "      <td>False</td>\n",
       "      <td>False</td>\n",
       "      <td>False</td>\n",
       "      <td>True</td>\n",
       "      <td>0</td>\n",
       "      <td>0</td>\n",
       "      <td>0</td>\n",
       "      <td>4.131617e-03</td>\n",
       "    </tr>\n",
       "    <tr>\n",
       "      <th>2</th>\n",
       "      <td>404</td>\n",
       "      <td>276737.58</td>\n",
       "      <td>0.00</td>\n",
       "      <td>0.00</td>\n",
       "      <td>962518.44</td>\n",
       "      <td>1239256.03</td>\n",
       "      <td>0</td>\n",
       "      <td>False</td>\n",
       "      <td>True</td>\n",
       "      <td>False</td>\n",
       "      <td>False</td>\n",
       "      <td>False</td>\n",
       "      <td>0</td>\n",
       "      <td>0</td>\n",
       "      <td>0</td>\n",
       "      <td>8.529435e-03</td>\n",
       "    </tr>\n",
       "    <tr>\n",
       "      <th>3</th>\n",
       "      <td>258</td>\n",
       "      <td>314027.77</td>\n",
       "      <td>650090.00</td>\n",
       "      <td>336062.23</td>\n",
       "      <td>0.00</td>\n",
       "      <td>314027.77</td>\n",
       "      <td>0</td>\n",
       "      <td>False</td>\n",
       "      <td>True</td>\n",
       "      <td>False</td>\n",
       "      <td>False</td>\n",
       "      <td>False</td>\n",
       "      <td>0</td>\n",
       "      <td>0</td>\n",
       "      <td>1</td>\n",
       "      <td>9.799595e-01</td>\n",
       "    </tr>\n",
       "    <tr>\n",
       "      <th>4</th>\n",
       "      <td>36</td>\n",
       "      <td>33468.45</td>\n",
       "      <td>0.00</td>\n",
       "      <td>0.00</td>\n",
       "      <td>149332.38</td>\n",
       "      <td>182800.83</td>\n",
       "      <td>0</td>\n",
       "      <td>False</td>\n",
       "      <td>True</td>\n",
       "      <td>False</td>\n",
       "      <td>False</td>\n",
       "      <td>False</td>\n",
       "      <td>0</td>\n",
       "      <td>0</td>\n",
       "      <td>0</td>\n",
       "      <td>3.666744e-01</td>\n",
       "    </tr>\n",
       "  </tbody>\n",
       "</table>\n",
       "</div>"
      ],
      "text/plain": [
       "   step       amount  oldbalanceOrg  newbalanceOrig  oldbalanceDest   \n",
       "0   303  13363860.78           0.00            0.00     13656437.62  \\\n",
       "1   355    340375.64        9758.51            0.00      4764447.25   \n",
       "2   404    276737.58           0.00            0.00       962518.44   \n",
       "3   258    314027.77      650090.00       336062.23            0.00   \n",
       "4    36     33468.45           0.00            0.00       149332.38   \n",
       "\n",
       "   newbalanceDest  isFlaggedFraud  CASH_IN  CASH_OUT  DEBIT  PAYMENT   \n",
       "0     27020298.40               0    False     False  False    False  \\\n",
       "1      5104822.89               0    False     False  False    False   \n",
       "2      1239256.03               0    False      True  False    False   \n",
       "3       314027.77               0    False      True  False    False   \n",
       "4       182800.83               0    False      True  False    False   \n",
       "\n",
       "   TRANSFER  isFraud  ensem_pred  smote_pred    smote_prob  \n",
       "0      True        0           0           0  4.550288e-79  \n",
       "1      True        0           0           0  4.131617e-03  \n",
       "2     False        0           0           0  8.529435e-03  \n",
       "3     False        0           0           1  9.799595e-01  \n",
       "4     False        0           0           0  3.666744e-01  "
      ]
     },
     "execution_count": 28,
     "metadata": {},
     "output_type": "execute_result"
    }
   ],
   "source": [
    "finalOutcome = dataPrep.pd.concat([features,finalData],axis=1)\n",
    "finalOutcome.head()"
   ]
  },
  {
   "cell_type": "code",
   "execution_count": 29,
   "id": "e0cc301b",
   "metadata": {},
   "outputs": [],
   "source": [
    "finalOutcome.to_excel(r\"D:\\Learnerea\\Tables\\dataforAnalysis.xlsx\")"
   ]
  }
 ],
 "metadata": {
  "kernelspec": {
   "display_name": "Python 3 (ipykernel)",
   "language": "python",
   "name": "python3"
  },
  "language_info": {
   "codemirror_mode": {
    "name": "ipython",
    "version": 3
   },
   "file_extension": ".py",
   "mimetype": "text/x-python",
   "name": "python",
   "nbconvert_exporter": "python",
   "pygments_lexer": "ipython3",
   "version": "3.9.7"
  }
 },
 "nbformat": 4,
 "nbformat_minor": 5
}
